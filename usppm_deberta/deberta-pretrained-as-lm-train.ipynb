{
 "cells": [
  {
   "cell_type": "markdown",
   "metadata": {},
   "source": [
    "# BERT for Patents Baseline\n",
    "\n",
    "- [kfold strategy](https://www.kaggle.com/code/abhishek/phrase-matching-folds)\n",
    "- Utilize [Cooperative Patent Classification Codes Meaning](https://www.kaggle.com/datasets/xhlulu/cpc-codes)\n",
    "- reference [phantivia'Notebook](https://www.kaggle.com/code/phantivia/uspppm-huggingface-train-inference-baseline)\n",
    "- [BERT for Patents](https://www.kaggle.com/datasets/ksork6s4/bert-for-patents) from [huggingface page](https://huggingface.co/anferico/bert-for-patents)\n",
    "\n",
    "\n",
    "### Please refer to [Inference Notebook](https://www.kaggle.com/code/ksork6s4/uspppm-bert-for-patents-baseline-inference/edit/run/91272728) as well."
   ]
  },
  {
   "cell_type": "code",
   "execution_count": 1,
   "metadata": {
    "execution": {
     "iopub.execute_input": "2022-03-22T10:44:51.813234Z",
     "iopub.status.busy": "2022-03-22T10:44:51.812846Z",
     "iopub.status.idle": "2022-03-22T10:45:00.634535Z",
     "shell.execute_reply": "2022-03-22T10:45:00.633724Z",
     "shell.execute_reply.started": "2022-03-22T10:44:51.813137Z"
    }
   },
   "outputs": [],
   "source": [
    "import os\n",
    "import pandas as pd\n",
    "import numpy as np\n",
    "from sklearn.model_selection import KFold, StratifiedKFold\n",
    "import shutil\n",
    "import torch\n",
    "import gc\n",
    "\n",
    "from torch.utils.data import DataLoader, Dataset\n",
    "import datasets, transformers\n",
    "from transformers import TrainingArguments, Trainer\n",
    "from transformers import AutoModelForSequenceClassification, AutoTokenizer\n",
    "from transformers import DebertaV2Config, DebertaV2Model\n",
    "\n",
    "os.environ[\"WANDB_DISABLED\"] = \"true\""
   ]
  },
  {
   "cell_type": "markdown",
   "metadata": {},
   "source": [
    "# Config"
   ]
  },
  {
   "cell_type": "code",
   "execution_count": 2,
   "metadata": {
    "execution": {
     "iopub.execute_input": "2022-03-22T10:45:00.636526Z",
     "iopub.status.busy": "2022-03-22T10:45:00.636239Z",
     "iopub.status.idle": "2022-03-22T10:45:00.641355Z",
     "shell.execute_reply": "2022-03-22T10:45:00.640769Z",
     "shell.execute_reply.started": "2022-03-22T10:45:00.636487Z"
    }
   },
   "outputs": [],
   "source": [
    "class CFG:\n",
    "    name = 'deberta-v3-small'\n",
    "    input_path = '../input/us-patent-phrase-to-phrase-matching/'\n",
    "    model_path = '../finetune_lm/deberta-v3-small+finetuned-patent/checkpoint-100000'\n",
    "    tokenizer_path = '../finetune_lm/tokenizer'\n",
    "    learning_rate = 5e-5\n",
    "    weight_decay = 0.01\n",
    "    num_fold = 5\n",
    "    epochs = 5\n",
    "    batch_size = 64\n",
    "    \n",
    "    save_total_limit = 1"
   ]
  },
  {
   "cell_type": "markdown",
   "metadata": {},
   "source": [
    "# Preproc"
   ]
  },
  {
   "cell_type": "code",
   "execution_count": 3,
   "metadata": {
    "execution": {
     "iopub.execute_input": "2022-03-22T10:45:02.02149Z",
     "iopub.status.busy": "2022-03-22T10:45:02.020964Z",
     "iopub.status.idle": "2022-03-22T10:45:03.165124Z",
     "shell.execute_reply": "2022-03-22T10:45:03.164154Z",
     "shell.execute_reply.started": "2022-03-22T10:45:02.021442Z"
    }
   },
   "outputs": [],
   "source": [
    "train_df = pd.read_csv(f\"{CFG.input_path}train.csv\")\n",
    "titles = pd.read_csv('../input/cpc-codes/titles.csv')\n",
    "train_df = train_df.merge(titles, left_on='context', right_on='code')\n",
    "\n",
    "# https://www.kaggle.com/code/abhishek/phrase-matching-folds\n",
    "def create_folds(data, num_splits):\n",
    "    # we create a new column called kfold and fill it with -1\n",
    "    data[\"fold\"] = -1\n",
    "    \n",
    "    # the next step is to randomize the rows of the data\n",
    "    # data = data.sample(frac=1).reset_index(drop=True)\n",
    "\n",
    "    # calculate number of bins by Sturge's rule\n",
    "    # I take the floor of the value, you can also\n",
    "    # just round it\n",
    "    # num_bins = int(np.floor(1 + np.log2(len(data))))\n",
    "    \n",
    "    # bin targets\n",
    "    data.loc[:, \"bins\"] = pd.cut(\n",
    "        data[\"score\"], bins=5, labels=False\n",
    "    )\n",
    "    \n",
    "    # initiate the kfold class from model_selection module\n",
    "    kf = StratifiedKFold(n_splits=num_splits, shuffle=True, random_state=42)\n",
    "    \n",
    "    # fill the new kfold column\n",
    "    # note that, instead of targets, we use bins!\n",
    "    for f, (t_, v_) in enumerate(kf.split(X=data, y=data.bins.values)):\n",
    "        data.loc[v_, 'fold'] = f\n",
    "    \n",
    "    # drop the bins column\n",
    "    data = data.drop(\"bins\", axis=1)\n",
    "\n",
    "    # return dataframe with folds\n",
    "    return data"
   ]
  },
  {
   "cell_type": "code",
   "execution_count": 4,
   "metadata": {
    "execution": {
     "iopub.execute_input": "2022-03-22T10:45:05.490321Z",
     "iopub.status.busy": "2022-03-22T10:45:05.489974Z",
     "iopub.status.idle": "2022-03-22T10:45:05.513672Z",
     "shell.execute_reply": "2022-03-22T10:45:05.51253Z",
     "shell.execute_reply.started": "2022-03-22T10:45:05.490286Z"
    }
   },
   "outputs": [],
   "source": [
    "train_df['input'] = train_df['title']+' '+ train_df['anchor']\n",
    "train_df = create_folds(train_df, CFG.num_fold)"
   ]
  },
  {
   "cell_type": "markdown",
   "metadata": {},
   "source": [
    "# Tokenizer"
   ]
  },
  {
   "cell_type": "code",
   "execution_count": 5,
   "metadata": {
    "execution": {
     "iopub.execute_input": "2022-03-22T10:45:12.385841Z",
     "iopub.status.busy": "2022-03-22T10:45:12.385202Z",
     "iopub.status.idle": "2022-03-22T10:45:12.615754Z",
     "shell.execute_reply": "2022-03-22T10:45:12.614607Z",
     "shell.execute_reply.started": "2022-03-22T10:45:12.3858Z"
    }
   },
   "outputs": [],
   "source": [
    "tokenizer = AutoTokenizer.from_pretrained(CFG.tokenizer_path)"
   ]
  },
  {
   "cell_type": "markdown",
   "metadata": {},
   "source": [
    "# Dataset"
   ]
  },
  {
   "cell_type": "code",
   "execution_count": 6,
   "metadata": {
    "execution": {
     "iopub.execute_input": "2022-03-22T10:45:14.267518Z",
     "iopub.status.busy": "2022-03-22T10:45:14.266964Z",
     "iopub.status.idle": "2022-03-22T10:45:14.27667Z",
     "shell.execute_reply": "2022-03-22T10:45:14.276033Z",
     "shell.execute_reply.started": "2022-03-22T10:45:14.267481Z"
    }
   },
   "outputs": [],
   "source": [
    "class TrainDataset(Dataset):\n",
    "    def __init__(self, df):\n",
    "        self.inputs = df['input'].values.astype(str)\n",
    "        self.targets = df['target'].values.astype(str)\n",
    "        self.label = df['score'].values\n",
    "\n",
    "    def __len__(self):\n",
    "        return len(self.inputs)\n",
    "\n",
    "    def __getitem__(self, item):\n",
    "        inputs = self.inputs[item]\n",
    "        targets = self.targets[item]\n",
    "        label = self.label[item]\n",
    "        \n",
    "        return {\n",
    "        **tokenizer( inputs, targets ),\n",
    "        'label':label.astype(np.float32)\n",
    "    }"
   ]
  },
  {
   "cell_type": "markdown",
   "metadata": {},
   "source": [
    "# Train"
   ]
  },
  {
   "cell_type": "code",
   "execution_count": 7,
   "metadata": {
    "execution": {
     "iopub.execute_input": "2022-03-22T10:45:15.472892Z",
     "iopub.status.busy": "2022-03-22T10:45:15.472507Z",
     "iopub.status.idle": "2022-03-22T10:45:15.478605Z",
     "shell.execute_reply": "2022-03-22T10:45:15.477967Z",
     "shell.execute_reply.started": "2022-03-22T10:45:15.472852Z"
    }
   },
   "outputs": [],
   "source": [
    "def compute_metrics(eval_pred):\n",
    "    predictions, labels = eval_pred\n",
    "    predictions = predictions.reshape(len(predictions))\n",
    "    return {\n",
    "        'pearson': np.corrcoef(predictions, labels)[0][1]\n",
    "    }"
   ]
  },
  {
   "cell_type": "code",
   "execution_count": 8,
   "metadata": {},
   "outputs": [],
   "source": [
    "def get_model(checkpoint=None):\n",
    "    if checkpoint is None:\n",
    "        return  AutoModelForSequenceClassification.from_pretrained(CFG.model_path, num_labels=1)\n",
    "    else:\n",
    "        deberta_model = AutoModelForSequenceClassification.from_pretrained(checkpoint, num_labels=1)\n",
    "        return deberta_model"
   ]
  },
  {
   "cell_type": "code",
   "execution_count": null,
   "metadata": {
    "execution": {
     "iopub.execute_input": "2022-03-22T10:45:15.884807Z",
     "iopub.status.busy": "2022-03-22T10:45:15.884462Z"
    },
    "scrolled": true
   },
   "outputs": [
    {
     "name": "stderr",
     "output_type": "stream",
     "text": [
      "Using the `WAND_DISABLED` environment variable is deprecated and will be removed in v5. Use the --report_to flag to control the integrations used for logging result (for instance --report_to none).\n",
      "Some weights of the model checkpoint at ../finetune_lm/deberta-v3-small+finetuned-patent/checkpoint-100000 were not used when initializing DebertaV2ForSequenceClassification: ['cls.predictions.bias', 'cls.predictions.decoder.weight', 'cls.predictions.transform.dense.weight', 'cls.predictions.transform.LayerNorm.bias', 'cls.predictions.transform.dense.bias', 'cls.predictions.decoder.bias', 'cls.predictions.transform.LayerNorm.weight']\n",
      "- This IS expected if you are initializing DebertaV2ForSequenceClassification from the checkpoint of a model trained on another task or with another architecture (e.g. initializing a BertForSequenceClassification model from a BertForPreTraining model).\n",
      "- This IS NOT expected if you are initializing DebertaV2ForSequenceClassification from the checkpoint of a model that you expect to be exactly identical (initializing a BertForSequenceClassification model from a BertForSequenceClassification model).\n",
      "Some weights of DebertaV2ForSequenceClassification were not initialized from the model checkpoint at ../finetune_lm/deberta-v3-small+finetuned-patent/checkpoint-100000 and are newly initialized: ['classifier.bias', 'pooler.dense.weight', 'classifier.weight', 'pooler.dense.bias']\n",
      "You should probably TRAIN this model on a down-stream task to be able to use it for predictions and inference.\n",
      "/opt/anaconda3/envs/paraphrase/lib/python3.7/site-packages/transformers/optimization.py:309: FutureWarning: This implementation of AdamW is deprecated and will be removed in a future version. Use the PyTorch implementation torch.optim.AdamW instead, or set `no_deprecation_warning=True` to disable this warning\n",
      "  FutureWarning,\n",
      "***** Running training *****\n",
      "  Num examples = 29178\n",
      "  Num Epochs = 5\n",
      "  Instantaneous batch size per device = 64\n",
      "  Total train batch size (w. parallel, distributed & accumulation) = 64\n",
      "  Gradient Accumulation steps = 1\n",
      "  Total optimization steps = 2280\n"
     ]
    },
    {
     "data": {
      "text/html": [
       "\n",
       "    <div>\n",
       "      \n",
       "      <progress value='2280' max='2280' style='width:300px; height:20px; vertical-align: middle;'></progress>\n",
       "      [2280/2280 14:23, Epoch 5/5]\n",
       "    </div>\n",
       "    <table border=\"1\" class=\"dataframe\">\n",
       "  <thead>\n",
       " <tr style=\"text-align: left;\">\n",
       "      <th>Epoch</th>\n",
       "      <th>Training Loss</th>\n",
       "      <th>Validation Loss</th>\n",
       "      <th>Pearson</th>\n",
       "    </tr>\n",
       "  </thead>\n",
       "  <tbody>\n",
       "    <tr>\n",
       "      <td>1</td>\n",
       "      <td>No log</td>\n",
       "      <td>0.059907</td>\n",
       "      <td>0.334273</td>\n",
       "    </tr>\n",
       "    <tr>\n",
       "      <td>2</td>\n",
       "      <td>0.069200</td>\n",
       "      <td>0.037875</td>\n",
       "      <td>0.658037</td>\n",
       "    </tr>\n",
       "    <tr>\n",
       "      <td>3</td>\n",
       "      <td>0.045600</td>\n",
       "      <td>0.034925</td>\n",
       "      <td>0.700923</td>\n",
       "    </tr>\n",
       "    <tr>\n",
       "      <td>4</td>\n",
       "      <td>0.031900</td>\n",
       "      <td>0.036778</td>\n",
       "      <td>0.715235</td>\n",
       "    </tr>\n",
       "    <tr>\n",
       "      <td>5</td>\n",
       "      <td>0.025600</td>\n",
       "      <td>0.035775</td>\n",
       "      <td>0.721840</td>\n",
       "    </tr>\n",
       "  </tbody>\n",
       "</table><p>"
      ],
      "text/plain": [
       "<IPython.core.display.HTML object>"
      ]
     },
     "metadata": {},
     "output_type": "display_data"
    },
    {
     "name": "stderr",
     "output_type": "stream",
     "text": [
      "***** Running Evaluation *****\n",
      "  Num examples = 7295\n",
      "  Batch size = 64\n",
      "Saving model checkpoint to ./tmp/uspppm/checkpoint-456\n",
      "Configuration saved in ./tmp/uspppm/checkpoint-456/config.json\n",
      "Model weights saved in ./tmp/uspppm/checkpoint-456/pytorch_model.bin\n",
      "tokenizer config file saved in ./tmp/uspppm/checkpoint-456/tokenizer_config.json\n",
      "Special tokens file saved in ./tmp/uspppm/checkpoint-456/special_tokens_map.json\n",
      "added tokens file saved in ./tmp/uspppm/checkpoint-456/added_tokens.json\n",
      "***** Running Evaluation *****\n",
      "  Num examples = 7295\n",
      "  Batch size = 64\n",
      "Saving model checkpoint to ./tmp/uspppm/checkpoint-912\n",
      "Configuration saved in ./tmp/uspppm/checkpoint-912/config.json\n",
      "Model weights saved in ./tmp/uspppm/checkpoint-912/pytorch_model.bin\n",
      "tokenizer config file saved in ./tmp/uspppm/checkpoint-912/tokenizer_config.json\n",
      "Special tokens file saved in ./tmp/uspppm/checkpoint-912/special_tokens_map.json\n",
      "added tokens file saved in ./tmp/uspppm/checkpoint-912/added_tokens.json\n",
      "***** Running Evaluation *****\n",
      "  Num examples = 7295\n",
      "  Batch size = 64\n",
      "Saving model checkpoint to ./tmp/uspppm/checkpoint-1368\n",
      "Configuration saved in ./tmp/uspppm/checkpoint-1368/config.json\n",
      "Model weights saved in ./tmp/uspppm/checkpoint-1368/pytorch_model.bin\n",
      "tokenizer config file saved in ./tmp/uspppm/checkpoint-1368/tokenizer_config.json\n",
      "Special tokens file saved in ./tmp/uspppm/checkpoint-1368/special_tokens_map.json\n",
      "added tokens file saved in ./tmp/uspppm/checkpoint-1368/added_tokens.json\n",
      "Deleting older checkpoint [tmp/uspppm/checkpoint-456] due to args.save_total_limit\n",
      "***** Running Evaluation *****\n",
      "  Num examples = 7295\n",
      "  Batch size = 64\n",
      "Saving model checkpoint to ./tmp/uspppm/checkpoint-1824\n",
      "Configuration saved in ./tmp/uspppm/checkpoint-1824/config.json\n",
      "Model weights saved in ./tmp/uspppm/checkpoint-1824/pytorch_model.bin\n",
      "tokenizer config file saved in ./tmp/uspppm/checkpoint-1824/tokenizer_config.json\n",
      "Special tokens file saved in ./tmp/uspppm/checkpoint-1824/special_tokens_map.json\n",
      "added tokens file saved in ./tmp/uspppm/checkpoint-1824/added_tokens.json\n",
      "Deleting older checkpoint [tmp/uspppm/checkpoint-912] due to args.save_total_limit\n",
      "***** Running Evaluation *****\n",
      "  Num examples = 7295\n",
      "  Batch size = 64\n",
      "Saving model checkpoint to ./tmp/uspppm/checkpoint-2280\n",
      "Configuration saved in ./tmp/uspppm/checkpoint-2280/config.json\n",
      "Model weights saved in ./tmp/uspppm/checkpoint-2280/pytorch_model.bin\n",
      "tokenizer config file saved in ./tmp/uspppm/checkpoint-2280/tokenizer_config.json\n",
      "Special tokens file saved in ./tmp/uspppm/checkpoint-2280/special_tokens_map.json\n",
      "added tokens file saved in ./tmp/uspppm/checkpoint-2280/added_tokens.json\n",
      "Deleting older checkpoint [tmp/uspppm/checkpoint-1368] due to args.save_total_limit\n",
      "\n",
      "\n",
      "Training completed. Do not forget to share your model on huggingface.co/models =)\n",
      "\n",
      "\n",
      "Loading best model from ./tmp/uspppm/checkpoint-2280 (score: 0.7218399634694881).\n",
      "Saving model checkpoint to uspppm_deberta-v3-small_0\n",
      "Configuration saved in uspppm_deberta-v3-small_0/config.json\n",
      "Model weights saved in uspppm_deberta-v3-small_0/pytorch_model.bin\n",
      "tokenizer config file saved in uspppm_deberta-v3-small_0/tokenizer_config.json\n",
      "Special tokens file saved in uspppm_deberta-v3-small_0/special_tokens_map.json\n",
      "added tokens file saved in uspppm_deberta-v3-small_0/added_tokens.json\n",
      "***** Running Prediction *****\n",
      "  Num examples = 7295\n",
      "  Batch size = 64\n"
     ]
    },
    {
     "data": {
      "text/html": [
       "\n",
       "    <div>\n",
       "      \n",
       "      <progress value='114' max='114' style='width:300px; height:20px; vertical-align: middle;'></progress>\n",
       "      [114/114 00:07]\n",
       "    </div>\n",
       "    "
      ],
      "text/plain": [
       "<IPython.core.display.HTML object>"
      ]
     },
     "metadata": {},
     "output_type": "display_data"
    },
    {
     "name": "stderr",
     "output_type": "stream",
     "text": [
      "PyTorch: setting up devices\n",
      "The default value for the training argument `--report_to` will change in v5 (from all installed integrations to none). In v5, you will need to use `--report_to all` to get the same behavior as now. You should start updating your code and make this info disappear :-).\n",
      "Using the `WAND_DISABLED` environment variable is deprecated and will be removed in v5. Use the --report_to flag to control the integrations used for logging result (for instance --report_to none).\n",
      "loading configuration file ../finetune_lm/deberta-v3-small+finetuned-patent/checkpoint-100000/config.json\n",
      "Model config DebertaV2Config {\n",
      "  \"_name_or_path\": \"../finetune_lm/deberta-v3-small+finetuned-patent/checkpoint-100000\",\n",
      "  \"architectures\": [\n",
      "    \"DebertaV2ForMaskedLM\"\n",
      "  ],\n",
      "  \"attention_probs_dropout_prob\": 0.1,\n",
      "  \"hidden_act\": \"gelu\",\n",
      "  \"hidden_dropout_prob\": 0.1,\n",
      "  \"hidden_size\": 768,\n",
      "  \"id2label\": {\n",
      "    \"0\": \"LABEL_0\"\n",
      "  },\n",
      "  \"initializer_range\": 0.02,\n",
      "  \"intermediate_size\": 3072,\n",
      "  \"label2id\": {\n",
      "    \"LABEL_0\": 0\n",
      "  },\n",
      "  \"layer_norm_eps\": 1e-07,\n",
      "  \"max_position_embeddings\": 512,\n",
      "  \"max_relative_positions\": -1,\n",
      "  \"model_type\": \"deberta-v2\",\n",
      "  \"norm_rel_ebd\": \"layer_norm\",\n",
      "  \"num_attention_heads\": 12,\n",
      "  \"num_hidden_layers\": 6,\n",
      "  \"pad_token_id\": 0,\n",
      "  \"pooler_dropout\": 0,\n",
      "  \"pooler_hidden_act\": \"gelu\",\n",
      "  \"pooler_hidden_size\": 768,\n",
      "  \"pos_att_type\": [\n",
      "    \"p2c\",\n",
      "    \"c2p\"\n",
      "  ],\n",
      "  \"position_biased_input\": false,\n",
      "  \"position_buckets\": 256,\n",
      "  \"relative_attention\": true,\n",
      "  \"share_att_key\": true,\n",
      "  \"torch_dtype\": \"float32\",\n",
      "  \"transformers_version\": \"4.18.0\",\n",
      "  \"type_vocab_size\": 0,\n",
      "  \"vocab_size\": 128100\n",
      "}\n",
      "\n",
      "loading weights file ../finetune_lm/deberta-v3-small+finetuned-patent/checkpoint-100000/pytorch_model.bin\n",
      "Some weights of the model checkpoint at ../finetune_lm/deberta-v3-small+finetuned-patent/checkpoint-100000 were not used when initializing DebertaV2ForSequenceClassification: ['cls.predictions.bias', 'cls.predictions.decoder.weight', 'cls.predictions.transform.dense.weight', 'cls.predictions.transform.LayerNorm.bias', 'cls.predictions.transform.dense.bias', 'cls.predictions.decoder.bias', 'cls.predictions.transform.LayerNorm.weight']\n",
      "- This IS expected if you are initializing DebertaV2ForSequenceClassification from the checkpoint of a model trained on another task or with another architecture (e.g. initializing a BertForSequenceClassification model from a BertForPreTraining model).\n",
      "- This IS NOT expected if you are initializing DebertaV2ForSequenceClassification from the checkpoint of a model that you expect to be exactly identical (initializing a BertForSequenceClassification model from a BertForSequenceClassification model).\n",
      "Some weights of DebertaV2ForSequenceClassification were not initialized from the model checkpoint at ../finetune_lm/deberta-v3-small+finetuned-patent/checkpoint-100000 and are newly initialized: ['classifier.bias', 'pooler.dense.weight', 'classifier.weight', 'pooler.dense.bias']\n",
      "You should probably TRAIN this model on a down-stream task to be able to use it for predictions and inference.\n",
      "/opt/anaconda3/envs/paraphrase/lib/python3.7/site-packages/transformers/optimization.py:309: FutureWarning: This implementation of AdamW is deprecated and will be removed in a future version. Use the PyTorch implementation torch.optim.AdamW instead, or set `no_deprecation_warning=True` to disable this warning\n",
      "  FutureWarning,\n",
      "***** Running training *****\n",
      "  Num examples = 29178\n",
      "  Num Epochs = 5\n",
      "  Instantaneous batch size per device = 64\n",
      "  Total train batch size (w. parallel, distributed & accumulation) = 64\n",
      "  Gradient Accumulation steps = 1\n",
      "  Total optimization steps = 2280\n"
     ]
    },
    {
     "data": {
      "text/html": [
       "\n",
       "    <div>\n",
       "      \n",
       "      <progress value='2280' max='2280' style='width:300px; height:20px; vertical-align: middle;'></progress>\n",
       "      [2280/2280 14:39, Epoch 5/5]\n",
       "    </div>\n",
       "    <table border=\"1\" class=\"dataframe\">\n",
       "  <thead>\n",
       " <tr style=\"text-align: left;\">\n",
       "      <th>Epoch</th>\n",
       "      <th>Training Loss</th>\n",
       "      <th>Validation Loss</th>\n",
       "      <th>Pearson</th>\n",
       "    </tr>\n",
       "  </thead>\n",
       "  <tbody>\n",
       "    <tr>\n",
       "      <td>1</td>\n",
       "      <td>No log</td>\n",
       "      <td>0.060588</td>\n",
       "      <td>0.329549</td>\n",
       "    </tr>\n",
       "    <tr>\n",
       "      <td>2</td>\n",
       "      <td>0.068500</td>\n",
       "      <td>0.038800</td>\n",
       "      <td>0.653759</td>\n",
       "    </tr>\n",
       "    <tr>\n",
       "      <td>3</td>\n",
       "      <td>0.045400</td>\n",
       "      <td>0.036826</td>\n",
       "      <td>0.699552</td>\n",
       "    </tr>\n",
       "    <tr>\n",
       "      <td>4</td>\n",
       "      <td>0.032000</td>\n",
       "      <td>0.034268</td>\n",
       "      <td>0.717141</td>\n",
       "    </tr>\n",
       "    <tr>\n",
       "      <td>5</td>\n",
       "      <td>0.025900</td>\n",
       "      <td>0.033962</td>\n",
       "      <td>0.725771</td>\n",
       "    </tr>\n",
       "  </tbody>\n",
       "</table><p>"
      ],
      "text/plain": [
       "<IPython.core.display.HTML object>"
      ]
     },
     "metadata": {},
     "output_type": "display_data"
    },
    {
     "name": "stderr",
     "output_type": "stream",
     "text": [
      "***** Running Evaluation *****\n",
      "  Num examples = 7295\n",
      "  Batch size = 64\n",
      "Saving model checkpoint to ./tmp/uspppm/checkpoint-456\n",
      "Configuration saved in ./tmp/uspppm/checkpoint-456/config.json\n",
      "Model weights saved in ./tmp/uspppm/checkpoint-456/pytorch_model.bin\n",
      "tokenizer config file saved in ./tmp/uspppm/checkpoint-456/tokenizer_config.json\n",
      "Special tokens file saved in ./tmp/uspppm/checkpoint-456/special_tokens_map.json\n",
      "added tokens file saved in ./tmp/uspppm/checkpoint-456/added_tokens.json\n",
      "***** Running Evaluation *****\n",
      "  Num examples = 7295\n",
      "  Batch size = 64\n",
      "Saving model checkpoint to ./tmp/uspppm/checkpoint-912\n",
      "Configuration saved in ./tmp/uspppm/checkpoint-912/config.json\n",
      "Model weights saved in ./tmp/uspppm/checkpoint-912/pytorch_model.bin\n",
      "tokenizer config file saved in ./tmp/uspppm/checkpoint-912/tokenizer_config.json\n",
      "Special tokens file saved in ./tmp/uspppm/checkpoint-912/special_tokens_map.json\n",
      "added tokens file saved in ./tmp/uspppm/checkpoint-912/added_tokens.json\n",
      "***** Running Evaluation *****\n",
      "  Num examples = 7295\n",
      "  Batch size = 64\n",
      "Saving model checkpoint to ./tmp/uspppm/checkpoint-1368\n",
      "Configuration saved in ./tmp/uspppm/checkpoint-1368/config.json\n",
      "Model weights saved in ./tmp/uspppm/checkpoint-1368/pytorch_model.bin\n",
      "tokenizer config file saved in ./tmp/uspppm/checkpoint-1368/tokenizer_config.json\n",
      "Special tokens file saved in ./tmp/uspppm/checkpoint-1368/special_tokens_map.json\n",
      "added tokens file saved in ./tmp/uspppm/checkpoint-1368/added_tokens.json\n",
      "Deleting older checkpoint [tmp/uspppm/checkpoint-456] due to args.save_total_limit\n",
      "***** Running Evaluation *****\n",
      "  Num examples = 7295\n",
      "  Batch size = 64\n",
      "Saving model checkpoint to ./tmp/uspppm/checkpoint-1824\n",
      "Configuration saved in ./tmp/uspppm/checkpoint-1824/config.json\n",
      "Model weights saved in ./tmp/uspppm/checkpoint-1824/pytorch_model.bin\n",
      "tokenizer config file saved in ./tmp/uspppm/checkpoint-1824/tokenizer_config.json\n",
      "Special tokens file saved in ./tmp/uspppm/checkpoint-1824/special_tokens_map.json\n",
      "added tokens file saved in ./tmp/uspppm/checkpoint-1824/added_tokens.json\n",
      "Deleting older checkpoint [tmp/uspppm/checkpoint-912] due to args.save_total_limit\n",
      "***** Running Evaluation *****\n",
      "  Num examples = 7295\n",
      "  Batch size = 64\n",
      "Saving model checkpoint to ./tmp/uspppm/checkpoint-2280\n",
      "Configuration saved in ./tmp/uspppm/checkpoint-2280/config.json\n",
      "Model weights saved in ./tmp/uspppm/checkpoint-2280/pytorch_model.bin\n",
      "tokenizer config file saved in ./tmp/uspppm/checkpoint-2280/tokenizer_config.json\n",
      "Special tokens file saved in ./tmp/uspppm/checkpoint-2280/special_tokens_map.json\n",
      "added tokens file saved in ./tmp/uspppm/checkpoint-2280/added_tokens.json\n",
      "Deleting older checkpoint [tmp/uspppm/checkpoint-1368] due to args.save_total_limit\n",
      "\n",
      "\n",
      "Training completed. Do not forget to share your model on huggingface.co/models =)\n",
      "\n",
      "\n",
      "Loading best model from ./tmp/uspppm/checkpoint-2280 (score: 0.7257709886682218).\n",
      "Saving model checkpoint to uspppm_deberta-v3-small_1\n",
      "Configuration saved in uspppm_deberta-v3-small_1/config.json\n",
      "Model weights saved in uspppm_deberta-v3-small_1/pytorch_model.bin\n",
      "tokenizer config file saved in uspppm_deberta-v3-small_1/tokenizer_config.json\n",
      "Special tokens file saved in uspppm_deberta-v3-small_1/special_tokens_map.json\n",
      "added tokens file saved in uspppm_deberta-v3-small_1/added_tokens.json\n",
      "***** Running Prediction *****\n",
      "  Num examples = 7295\n",
      "  Batch size = 64\n"
     ]
    },
    {
     "data": {
      "text/html": [
       "\n",
       "    <div>\n",
       "      \n",
       "      <progress value='114' max='114' style='width:300px; height:20px; vertical-align: middle;'></progress>\n",
       "      [114/114 00:08]\n",
       "    </div>\n",
       "    "
      ],
      "text/plain": [
       "<IPython.core.display.HTML object>"
      ]
     },
     "metadata": {},
     "output_type": "display_data"
    },
    {
     "name": "stderr",
     "output_type": "stream",
     "text": [
      "PyTorch: setting up devices\n",
      "The default value for the training argument `--report_to` will change in v5 (from all installed integrations to none). In v5, you will need to use `--report_to all` to get the same behavior as now. You should start updating your code and make this info disappear :-).\n",
      "Using the `WAND_DISABLED` environment variable is deprecated and will be removed in v5. Use the --report_to flag to control the integrations used for logging result (for instance --report_to none).\n",
      "loading configuration file ../finetune_lm/deberta-v3-small+finetuned-patent/checkpoint-100000/config.json\n",
      "Model config DebertaV2Config {\n",
      "  \"_name_or_path\": \"../finetune_lm/deberta-v3-small+finetuned-patent/checkpoint-100000\",\n",
      "  \"architectures\": [\n",
      "    \"DebertaV2ForMaskedLM\"\n",
      "  ],\n",
      "  \"attention_probs_dropout_prob\": 0.1,\n",
      "  \"hidden_act\": \"gelu\",\n",
      "  \"hidden_dropout_prob\": 0.1,\n",
      "  \"hidden_size\": 768,\n",
      "  \"id2label\": {\n",
      "    \"0\": \"LABEL_0\"\n",
      "  },\n",
      "  \"initializer_range\": 0.02,\n",
      "  \"intermediate_size\": 3072,\n",
      "  \"label2id\": {\n",
      "    \"LABEL_0\": 0\n",
      "  },\n",
      "  \"layer_norm_eps\": 1e-07,\n",
      "  \"max_position_embeddings\": 512,\n",
      "  \"max_relative_positions\": -1,\n",
      "  \"model_type\": \"deberta-v2\",\n",
      "  \"norm_rel_ebd\": \"layer_norm\",\n",
      "  \"num_attention_heads\": 12,\n",
      "  \"num_hidden_layers\": 6,\n",
      "  \"pad_token_id\": 0,\n",
      "  \"pooler_dropout\": 0,\n",
      "  \"pooler_hidden_act\": \"gelu\",\n",
      "  \"pooler_hidden_size\": 768,\n",
      "  \"pos_att_type\": [\n",
      "    \"p2c\",\n",
      "    \"c2p\"\n",
      "  ],\n",
      "  \"position_biased_input\": false,\n",
      "  \"position_buckets\": 256,\n",
      "  \"relative_attention\": true,\n",
      "  \"share_att_key\": true,\n",
      "  \"torch_dtype\": \"float32\",\n",
      "  \"transformers_version\": \"4.18.0\",\n",
      "  \"type_vocab_size\": 0,\n",
      "  \"vocab_size\": 128100\n",
      "}\n",
      "\n",
      "loading weights file ../finetune_lm/deberta-v3-small+finetuned-patent/checkpoint-100000/pytorch_model.bin\n",
      "Some weights of the model checkpoint at ../finetune_lm/deberta-v3-small+finetuned-patent/checkpoint-100000 were not used when initializing DebertaV2ForSequenceClassification: ['cls.predictions.bias', 'cls.predictions.decoder.weight', 'cls.predictions.transform.dense.weight', 'cls.predictions.transform.LayerNorm.bias', 'cls.predictions.transform.dense.bias', 'cls.predictions.decoder.bias', 'cls.predictions.transform.LayerNorm.weight']\n",
      "- This IS expected if you are initializing DebertaV2ForSequenceClassification from the checkpoint of a model trained on another task or with another architecture (e.g. initializing a BertForSequenceClassification model from a BertForPreTraining model).\n",
      "- This IS NOT expected if you are initializing DebertaV2ForSequenceClassification from the checkpoint of a model that you expect to be exactly identical (initializing a BertForSequenceClassification model from a BertForSequenceClassification model).\n",
      "Some weights of DebertaV2ForSequenceClassification were not initialized from the model checkpoint at ../finetune_lm/deberta-v3-small+finetuned-patent/checkpoint-100000 and are newly initialized: ['classifier.bias', 'pooler.dense.weight', 'classifier.weight', 'pooler.dense.bias']\n",
      "You should probably TRAIN this model on a down-stream task to be able to use it for predictions and inference.\n",
      "/opt/anaconda3/envs/paraphrase/lib/python3.7/site-packages/transformers/optimization.py:309: FutureWarning: This implementation of AdamW is deprecated and will be removed in a future version. Use the PyTorch implementation torch.optim.AdamW instead, or set `no_deprecation_warning=True` to disable this warning\n",
      "  FutureWarning,\n",
      "***** Running training *****\n",
      "  Num examples = 29178\n",
      "  Num Epochs = 5\n",
      "  Instantaneous batch size per device = 64\n",
      "  Total train batch size (w. parallel, distributed & accumulation) = 64\n",
      "  Gradient Accumulation steps = 1\n",
      "  Total optimization steps = 2280\n"
     ]
    },
    {
     "data": {
      "text/html": [
       "\n",
       "    <div>\n",
       "      \n",
       "      <progress value='315' max='2280' style='width:300px; height:20px; vertical-align: middle;'></progress>\n",
       "      [ 315/2280 01:51 < 11:39, 2.81 it/s, Epoch 0.69/5]\n",
       "    </div>\n",
       "    <table border=\"1\" class=\"dataframe\">\n",
       "  <thead>\n",
       " <tr style=\"text-align: left;\">\n",
       "      <th>Epoch</th>\n",
       "      <th>Training Loss</th>\n",
       "      <th>Validation Loss</th>\n",
       "    </tr>\n",
       "  </thead>\n",
       "  <tbody>\n",
       "  </tbody>\n",
       "</table><p>"
      ],
      "text/plain": [
       "<IPython.core.display.HTML object>"
      ]
     },
     "metadata": {},
     "output_type": "display_data"
    }
   ],
   "source": [
    "oof_df = pd.DataFrame()\n",
    "for fold in range(CFG.num_fold):\n",
    "    \n",
    "    tr_data = train_df[train_df['fold']!=fold].reset_index(drop=True)\n",
    "    va_data = train_df[train_df['fold']==fold].reset_index(drop=True)\n",
    "    tr_dataset = TrainDataset(tr_data)\n",
    "    va_dataset = TrainDataset(va_data)\n",
    "    \n",
    "    args = TrainingArguments(\n",
    "        output_dir=f\"./tmp/uspppm\",\n",
    "        evaluation_strategy=\"epoch\",\n",
    "        save_strategy=\"epoch\",\n",
    "        learning_rate=CFG.learning_rate,\n",
    "        per_device_train_batch_size=CFG.batch_size,\n",
    "        per_device_eval_batch_size=CFG.batch_size,\n",
    "        num_train_epochs=CFG.epochs,\n",
    "        weight_decay=CFG.weight_decay,\n",
    "        metric_for_best_model=\"pearson\",\n",
    "        load_best_model_at_end=True,\n",
    "        save_total_limit=CFG.save_total_limit,\n",
    "    )\n",
    "    \n",
    "    model = get_model(CFG.model_path)\n",
    "    trainer = Trainer(\n",
    "        model,\n",
    "        args,\n",
    "        train_dataset=tr_dataset,\n",
    "        eval_dataset=va_dataset,\n",
    "        tokenizer=tokenizer,\n",
    "        compute_metrics=compute_metrics\n",
    "    )\n",
    "    \n",
    "    trainer.train()\n",
    "    shutil.rmtree(f\"./tmp/uspppm\")\n",
    "    trainer.save_model(f\"uspppm_{CFG.name}_{fold}\")\n",
    "    \n",
    "    outputs = trainer.predict(va_dataset)\n",
    "    predictions = outputs.predictions.reshape(-1)\n",
    "    va_data['preds'] = predictions\n",
    "    oof_df = pd.concat([oof_df, va_data])\n",
    "    del model\n",
    "    torch.cuda.empty_cache()"
   ]
  },
  {
   "cell_type": "code",
   "execution_count": null,
   "metadata": {},
   "outputs": [],
   "source": [
    "predictions = oof_df['preds'].values\n",
    "label = oof_df['score'].values\n",
    "eval_pred = predictions, label\n",
    "compute_metrics(eval_pred)"
   ]
  },
  {
   "cell_type": "code",
   "execution_count": null,
   "metadata": {},
   "outputs": [],
   "source": [
    "oof_df.to_csv('oof_df.csv')"
   ]
  }
 ],
 "metadata": {
  "kernelspec": {
   "display_name": "Python 3 (ipykernel)",
   "language": "python",
   "name": "python3"
  },
  "language_info": {
   "codemirror_mode": {
    "name": "ipython",
    "version": 3
   },
   "file_extension": ".py",
   "mimetype": "text/x-python",
   "name": "python",
   "nbconvert_exporter": "python",
   "pygments_lexer": "ipython3",
   "version": "3.7.13"
  }
 },
 "nbformat": 4,
 "nbformat_minor": 4
}
